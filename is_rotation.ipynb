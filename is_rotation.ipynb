{
 "cells": [
  {
   "cell_type": "code",
   "execution_count": 20,
   "metadata": {},
   "outputs": [],
   "source": [
    "def is_substring(string: str, sub: str) -> bool:\n",
    "    print(f'string: {string}, sub: {sub}, result: {string.find(sub)}')\n",
    "    return string.find(sub) != -1\n",
    "\n",
    "def is_rotation(s1: str, s2: str) -> bool:\n",
    "    print(f'len(s1): {len(s1)}, len(s2): {len(s2)}, result: {len(s1) == len(s2)}')\n",
    "    if len(s1) == len(s2) != 0:\n",
    "        return is_substring(s1+s1, s2)\n",
    "    return False\n"
   ]
  },
  {
   "cell_type": "code",
   "execution_count": 21,
   "metadata": {},
   "outputs": [
    {
     "name": "stderr",
     "output_type": "stream",
     "text": [
      "test_is_rotation (__main__.TestCase) ... "
     ]
    },
    {
     "name": "stdout",
     "output_type": "stream",
     "text": [
      "len(s1): 11, len(s2): 11, result: True\n",
      "string: waterbottlewaterbottle, sub: erbottlewat, result: 3\n",
      "len(s1): 11, len(s2): 12, result: False\n",
      "len(s1): 3, len(s2): 3, result: True\n",
      "string: foofoo, sub: bar, result: -1\n",
      "len(s1): 3, len(s2): 6, result: False\n"
     ]
    },
    {
     "name": "stderr",
     "output_type": "stream",
     "text": [
      "ok\n",
      "\n",
      "----------------------------------------------------------------------\n",
      "Ran 1 test in 0.001s\n",
      "\n",
      "OK\n"
     ]
    },
    {
     "data": {
      "text/plain": [
       "<unittest.main.TestProgram at 0x103529cd0>"
      ]
     },
     "execution_count": 21,
     "metadata": {},
     "output_type": "execute_result"
    }
   ],
   "source": [
    "import unittest\n",
    "\n",
    "class TestCase(unittest.TestCase):\n",
    "    test_data = [\n",
    "            (\"waterbottle\", \"erbottlewat\", True),\n",
    "            (\"waterbottle\", \"erbottlewate\", False),\n",
    "            ('foo', 'bar', False),\n",
    "            ('foo', 'foofoo', False)\n",
    "    ]\n",
    "\n",
    "    def test_is_rotation(self):\n",
    "        for [s1, s2, result] in self.test_data:\n",
    "            self.assertEqual(is_rotation(s1, s2), result)\n",
    "\n",
    "\n",
    "unittest.main(argv=[''], verbosity=2, exit=False)"
   ]
  }
 ],
 "metadata": {
  "kernelspec": {
   "display_name": "Python 3",
   "language": "python",
   "name": "python3"
  },
  "language_info": {
   "codemirror_mode": {
    "name": "ipython",
    "version": 3
   },
   "file_extension": ".py",
   "mimetype": "text/x-python",
   "name": "python",
   "nbconvert_exporter": "python",
   "pygments_lexer": "ipython3",
   "version": "3.9.6"
  }
 },
 "nbformat": 4,
 "nbformat_minor": 2
}
