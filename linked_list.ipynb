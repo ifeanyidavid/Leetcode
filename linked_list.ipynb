{
 "cells": [
  {
   "cell_type": "code",
   "execution_count": 68,
   "metadata": {},
   "outputs": [],
   "source": [
    "class Node:\n",
    "    def __init__(self, data, nextNode=None, prevNode=None):\n",
    "        self.data = data\n",
    "        self.next = nextNode\n",
    "        self.prev = prevNode\n",
    "    \n",
    "    def __repr__(self):\n",
    "        return str(self.data)"
   ]
  },
  {
   "cell_type": "code",
   "execution_count": 69,
   "metadata": {},
   "outputs": [],
   "source": [
    "from random import randint\n",
    "\n",
    "class LinkedList:\n",
    "    def __init__(self, values: list = None):\n",
    "        self.head = None\n",
    "        self.tail = None\n",
    "        if values is not None:\n",
    "            self.add_multiple(values)\n",
    "\n",
    "    \n",
    "    def __len__(self):\n",
    "        result = 0\n",
    "        current = self.head\n",
    "\n",
    "        while current and current.next:\n",
    "            result += 1\n",
    "            current = current.next\n",
    "        return result\n",
    "\n",
    "    def add(self, data):\n",
    "        if not self.head:\n",
    "            self.tail=self.head=Node(data)\n",
    "        else:\n",
    "            self.tail.next = Node(data)\n",
    "            self.tail = self.tail.next\n",
    "        return self.tail\n",
    "    \n",
    "    def add_to_beginning(self, data):\n",
    "        if not self.head:\n",
    "            self.tail=self.head=Node(data)\n",
    "        else:\n",
    "            self.head = Node(data, self.head)\n",
    "        return self.head\n",
    "    \n",
    "    def add_multiple(self, values: list):\n",
    "        for value in values:\n",
    "            self.add(value)\n",
    "\n",
    "    def generate(self, n, min_value, max_value):\n",
    "        self.head = self.tail = None\n",
    "\n",
    "        for i in range(n):\n",
    "            self.add(randint(min_value, max_value))\n",
    "        return self\n",
    "    \n",
    "    def append(self, data):\n",
    "        if not self.head:\n",
    "            self.head = Node(data)\n",
    "        else:\n",
    "            current = self.head\n",
    "            while current.next:\n",
    "                current = current.next\n",
    "            current.next = Node(data)\n",
    "    \n",
    "    def delete(self, data):\n",
    "        current = self.head\n",
    "\n",
    "        # If the list is empty or the head node needs to be removed\n",
    "        if current and current.data == data:\n",
    "            self.head = current.next\n",
    "            current = None\n",
    "            return\n",
    "\n",
    "        # Search for the node to remove while keeping track of the previous node\n",
    "        prev = None\n",
    "        while current and current.data != data:\n",
    "            prev = current\n",
    "            current = current.next\n",
    "\n",
    "        # If the data was not found in the list\n",
    "        if current is None:\n",
    "            return\n",
    "        \n",
    "\n",
    "        # Remove the node\n",
    "        prev.next = current.next\n",
    "        current = None\n",
    "        \n",
    "    \n",
    "    def has_cycle(self):\n",
    "        if not self.head:\n",
    "            return False\n",
    "        \n",
    "        fast = self.head\n",
    "        slow = self.head\n",
    "\n",
    "        while fast and fast.next:\n",
    "            fast = fast.next.next\n",
    "            slow = slow.next\n",
    "\n",
    "            if fast == slow:\n",
    "                return True\n",
    "        \n",
    "        return False\n",
    "\n",
    "\n",
    "\n",
    "    def __iter__(self):\n",
    "        current = self.head\n",
    "        while current:\n",
    "            yield current\n",
    "            current = current.next\n",
    "\n",
    "    def __str__(self):\n",
    "        elements = [str(data) for data in self]\n",
    "        return \" -> \".join(elements)"
   ]
  },
  {
   "cell_type": "code",
   "execution_count": 70,
   "metadata": {},
   "outputs": [
    {
     "name": "stdout",
     "output_type": "stream",
     "text": [
      "1 -> 2 -> 3 -> 4\n"
     ]
    }
   ],
   "source": [
    "ll = LinkedList()\n",
    "ll.add(1)\n",
    "ll.add(2)\n",
    "ll.add(3)\n",
    "ll.add(4)\n",
    "print(ll)"
   ]
  },
  {
   "cell_type": "code",
   "execution_count": 71,
   "metadata": {},
   "outputs": [],
   "source": [
    "class DoublyLinkedList(LinkedList):\n",
    "    def add(self, data):\n",
    "        if not self.head:\n",
    "            self.tail = self.head = Node(data, None, self.tail)\n",
    "        else:\n",
    "            self.tail.next = Node(data)\n",
    "            self.tail = self.tail.next\n",
    "        return self"
   ]
  },
  {
   "cell_type": "code",
   "execution_count": 72,
   "metadata": {},
   "outputs": [
    {
     "name": "stdout",
     "output_type": "stream",
     "text": [
      "1 -> 2 -> 2\n"
     ]
    }
   ],
   "source": [
    "dll = DoublyLinkedList()\n",
    "dll.add(1)\n",
    "dll.add(2)\n",
    "dll.add(2)\n",
    "print(dll)"
   ]
  },
  {
   "cell_type": "code",
   "execution_count": 89,
   "metadata": {},
   "outputs": [],
   "source": [
    "def remove_dups(ll: LinkedList) -> LinkedList:\n",
    "    # traverse the list\n",
    "    # use array to keep track of seen nodes\n",
    "    # for each node, check if is present in the seen array\n",
    "    # if it is present, delete the node by pointing the previous node to the node pointed to by the current node\n",
    "\n",
    "    if ll.head is None:\n",
    "        return\n",
    "    \n",
    "    current = ll.head\n",
    "    # seen = set([current.value])\n",
    "    seen = []\n",
    "    while current.next:\n",
    "        seen.append(current.data)\n",
    "        if current.next.data in seen:\n",
    "            # delete the node\n",
    "            current.next = current.next.next\n",
    "        else:\n",
    "            current = current.next\n",
    "    \n",
    "    return ll"
   ]
  },
  {
   "cell_type": "code",
   "execution_count": 90,
   "metadata": {},
   "outputs": [
    {
     "name": "stdout",
     "output_type": "stream",
     "text": [
      "2 -> 4 -> 3 -> 8 -> 7 -> 3 -> 2 -> 6 -> 6 -> 1\n",
      "2 -> 4 -> 3 -> 8 -> 7 -> 6 -> 1\n"
     ]
    }
   ],
   "source": [
    "ll = LinkedList()\n",
    "ll.generate(10, 0, 9)\n",
    "print(ll)\n",
    "\n",
    "remove_dups(ll)\n",
    "print(ll)"
   ]
  },
  {
   "cell_type": "code",
   "execution_count": null,
   "metadata": {},
   "outputs": [],
   "source": []
  }
 ],
 "metadata": {
  "kernelspec": {
   "display_name": "Python 3",
   "language": "python",
   "name": "python3"
  },
  "language_info": {
   "codemirror_mode": {
    "name": "ipython",
    "version": 3
   },
   "file_extension": ".py",
   "mimetype": "text/x-python",
   "name": "python",
   "nbconvert_exporter": "python",
   "pygments_lexer": "ipython3",
   "version": "3.9.6"
  }
 },
 "nbformat": 4,
 "nbformat_minor": 2
}
