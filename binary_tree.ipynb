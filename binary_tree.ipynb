{
 "cells": [
  {
   "cell_type": "code",
   "execution_count": 34,
   "metadata": {},
   "outputs": [],
   "source": [
    "class Node:\n",
    "    def __init__(self, key):\n",
    "        self.left = None\n",
    "        self.right = None\n",
    "        self.data = key\n",
    "\n",
    "def inorder_traversal(root):\n",
    "    if root:\n",
    "        # First recur o f the left child\n",
    "        inorder_traversal(root.left)\n",
    "\n",
    "        # Print the data of the node\n",
    "        print(root.data, end=\" \")\n",
    "\n",
    "        # Now recur on the right child\n",
    "        inorder_traversal(root.right)\n",
    "\n",
    "def preorder_traversal(root):\n",
    "    if root:\n",
    "        # First print the data of the node\n",
    "        print(root.data, end=\" \")\n",
    "\n",
    "        # Then recur on the left child\n",
    "        preorder_traversal(root.left)\n",
    "\n",
    "        # Finally recur on the right child\n",
    "        preorder_traversal(root.right)\n",
    "\n",
    "def postorder_traversal(root):\n",
    "    if root:\n",
    "        # First recur on the left child\n",
    "        postorder_traversal(root.left)\n",
    "\n",
    "        # the recur on the right child\n",
    "        postorder_traversal(root.right)\n",
    "\n",
    "        # now print the data of node\n",
    "        print(root.data, end=\" \")\n",
    "\n",
    "def check_bst_(root: Node, min: int, max: int):\n",
    "    if root is None:\n",
    "        return True\n",
    "    if root.data < min or root.data > max:\n",
    "        return False\n",
    "    return check_bst_(root.left, min, root.data - 1) and check_bst_(root.right, root.data + 1, max)\n",
    "\n",
    "def check_bst(root: Node):\n",
    "    return check_bst_(root, float(\"-inf\"), float(\"inf\"))\n",
    "\n",
    "\n",
    "def insert_into_bst(root: Node, val):\n",
    "    if root is None:\n",
    "        return Node(val)\n",
    "    if val < root.data:\n",
    "        root.left = insert_into_bst(root.left, val)\n",
    "    else:\n",
    "        root.right = insert_into_bst(root.right, val)\n",
    "    return root\n",
    "\n",
    "\n",
    "def construct_bst(nodes: list):\n",
    "    root = None\n",
    "    for val in nodes:\n",
    "        root = insert_into_bst(root, val)\n",
    "    return root\n",
    "\n",
    "def print_in_order(node: Node):\n",
    "    if node:\n",
    "        print_in_order(node.left)\n",
    "        print(node.data, end=\" \")\n",
    "        print_in_order(node.right)\n",
    "\n",
    "def contains(root: Node, val):\n",
    "    if root is None:\n",
    "        return False\n",
    "    if root.data == val:\n",
    "        return True\n",
    "    return contains(root.left, val) or contains(root.right, val)"
   ]
  },
  {
   "cell_type": "code",
   "execution_count": 25,
   "metadata": {},
   "outputs": [
    {
     "data": {
      "text/plain": [
       "True"
      ]
     },
     "execution_count": 25,
     "metadata": {},
     "output_type": "execute_result"
    }
   ],
   "source": [
    "r = Node(4)\n",
    "r.left = Node(2)\n",
    "r.right = Node(5)\n",
    "r.left.left = Node(1)\n",
    "r.left.right = Node(3)\n",
    "\n",
    "# print(\"Inorder traversal of binary tree is\")\n",
    "# inorder_traversal(r)\n",
    "check_bst(r)"
   ]
  },
  {
   "cell_type": "code",
   "execution_count": 40,
   "metadata": {},
   "outputs": [
    {
     "name": "stdout",
     "output_type": "stream",
     "text": [
      "0 1 2 3 4 5 6 8 "
     ]
    },
    {
     "data": {
      "text/plain": [
       "True"
      ]
     },
     "execution_count": 40,
     "metadata": {},
     "output_type": "execute_result"
    }
   ],
   "source": [
    "nodes = [5,4,1,3,2,6,8]\n",
    "\n",
    "root = construct_bst(nodes)\n",
    "\n",
    "insert_into_bst(root, 0)\n",
    "\n",
    "print_in_order(root)\n",
    "\n",
    "check_bst(root)\n",
    "# contains(root, 9)"
   ]
  },
  {
   "cell_type": "markdown",
   "metadata": {},
   "source": [
    "#### Convert a binary search tree to a sorted circular doubly-linked list in place | Leetcode #426\n",
    "You can think of the left and right pointers as synonymous to the predecessor and successor pointers in a doubly-linked list. For a circular doubly linked list, the predecessor of the first element is the last element, and the successor of the last element is the first element.\n",
    "We want to do the transformation in place. After the transformation, the left pointer of the tree node should point to its predecessor, and the right pointer should point to its successor. You should return the pointer to the smallest element of the linked list.\n",
    "\n",
    "        4\n",
    "       / \\\n",
    "      2   5\n",
    "    /  \\\n",
    "   1   3\n",
    "\n",
    "Input: root = [4,2,5,1,3]\n",
    "Output: [1,2,3,4,5]\n",
    "\n",
    "<=>1 <=> 2 <=> 3 <=> 4 <=> 5<=>\n",
    "|                             |\n",
    "--------------------------------\n",
    "\n",
    "Algorithm\n",
    "- Perform an inorder traversal of the BST and set the left and right pointers as we go along\n",
    "\n",
    "T: O(n) - because we are touching every single node in the tree to perform the linking\n",
    "S: O(log N) - best case, O(N) - worst case\n"
   ]
  },
  {
   "cell_type": "code",
   "execution_count": 41,
   "metadata": {},
   "outputs": [],
   "source": [
    "class Solution:\n",
    "    def __init__(self):\n",
    "        self.prev: Node = None\n",
    "        self.head: Node = None\n",
    "    def treeToDoublyList(self, root: Optional[Node]) -> Optional[Node]:\n",
    "        if root is None:\n",
    "            return None\n",
    "        \n",
    "        self.first = None\n",
    "        self.last = None\n",
    "\n",
    "        self.inorder_link(root)\n",
    "\n",
    "        self.first.left = self.last\n",
    "        self.last.right = self.first\n",
    "\n",
    "        return self.first\n",
    "    \n",
    "    def inorder_link(self, node):\n",
    "        if node:\n",
    "            self.inorder_link(node.left)\n",
    "\n",
    "            if not self.last:\n",
    "                self.first = node\n",
    "            else:\n",
    "                node.left = self.last\n",
    "                self.last.right = node\n",
    "\n",
    "            self.last = node\n",
    "\n",
    "            self.inorder_link(node.right)\n",
    "    \n",
    "    def alternative_solution(self, root: Node) -> Node:\n",
    "        if root is None:\n",
    "            return None\n",
    "        self.dfsInOrder(root)\n",
    "\n",
    "        self.prev.right = self.head\n",
    "        self.head.left = self.prev\n",
    "\n",
    "        return self.head\n",
    "\n",
    "    \n",
    "    def dfsInOrder(self, root: Node) -> None:\n",
    "        if root:\n",
    "            self.dfsInOrder(root.left)\n",
    "            if self.prev is None:\n",
    "                self.head = root\n",
    "            else:\n",
    "                self.prev.right = root\n",
    "                root.left = self.prev\n",
    "            self.prev = root\n",
    "            self.dfsInOrder(root.right)\n",
    "    "
   ]
  },
  {
   "cell_type": "markdown",
   "metadata": {},
   "source": [
    "#### Flatten Binary Tree to Linked List\n",
    "Given the root of a binary tree, flatten the tree into a \"linked list\"\n",
    "- The \"linked list\" should use the same TreeNode class where the right child pointer points to the next node in the list and left child pointer is alwas null\n",
    "- The \"linked list\" should be in the same order as a pre-order traversal of the binary tree\n",
    "\n",
    "Input: root = [1,2,5,3,4,None,6]\n",
    "Output: [1,None, 2,None, 3,None, 4,None, 5,None, 6]"
   ]
  },
  {
   "cell_type": "code",
   "execution_count": null,
   "metadata": {},
   "outputs": [],
   "source": [
    "class Solution:\n",
    "    def flattenBinaryTreeToLinkedList(self, root: Optional[Node]) -> None:\n",
    "        # flatten the root tree and return the list tail\n",
    "        def dfs(root):\n",
    "            if not root:\n",
    "                return None\n",
    "            left_tail = dfs(root.left)\n",
    "            right_tail = dfs(root.right)\n",
    "\n",
    "            if root.left:\n",
    "                left_tail.right = root.right\n",
    "                root.right = root.left\n",
    "                root.left = None\n",
    "            \n",
    "            last = right_tail or left_tail or root\n",
    "        \n",
    "        dfs(root)\n",
    "                "
   ]
  },
  {
   "cell_type": "code",
   "execution_count": 47,
   "metadata": {},
   "outputs": [
    {
     "name": "stdout",
     "output_type": "stream",
     "text": [
      "1 2 3 4 5 6 None\n"
     ]
    }
   ],
   "source": [
    "nodes = [1,2,5,3,4,6]\n",
    "root = construct_bst(nodes)\n",
    "\n",
    "print(print_in_order(root))"
   ]
  }
 ],
 "metadata": {
  "kernelspec": {
   "display_name": "Python 3",
   "language": "python",
   "name": "python3"
  },
  "language_info": {
   "codemirror_mode": {
    "name": "ipython",
    "version": 3
   },
   "file_extension": ".py",
   "mimetype": "text/x-python",
   "name": "python",
   "nbconvert_exporter": "python",
   "pygments_lexer": "ipython3",
   "version": "3.9.6"
  }
 },
 "nbformat": 4,
 "nbformat_minor": 2
}
