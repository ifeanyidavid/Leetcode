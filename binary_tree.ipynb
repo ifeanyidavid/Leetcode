{
 "cells": [
  {
   "cell_type": "code",
   "execution_count": 34,
   "metadata": {},
   "outputs": [],
   "source": [
    "class Node:\n",
    "    def __init__(self, key):\n",
    "        self.left = None\n",
    "        self.right = None\n",
    "        self.data = key\n",
    "\n",
    "def inorder_traversal(root):\n",
    "    if root:\n",
    "        # First recur o f the left child\n",
    "        inorder_traversal(root.left)\n",
    "\n",
    "        # Print the data of the node\n",
    "        print(root.data, end=\" \")\n",
    "\n",
    "        # Now recur on the right child\n",
    "        inorder_traversal(root.right)\n",
    "\n",
    "def preorder_traversal(root):\n",
    "    if root:\n",
    "        # First print the data of the node\n",
    "        print(root.data, end=\" \")\n",
    "\n",
    "        # Then recur on the left child\n",
    "        preorder_traversal(root.left)\n",
    "\n",
    "        # Finally recur on the right child\n",
    "        preorder_traversal(root.right)\n",
    "\n",
    "def postorder_traversal(root):\n",
    "    if root:\n",
    "        # First recur on the left child\n",
    "        postorder_traversal(root.left)\n",
    "\n",
    "        # the recur on the right child\n",
    "        postorder_traversal(root.right)\n",
    "\n",
    "        # now print the data of node\n",
    "        print(root.data, end=\" \")\n",
    "\n",
    "def check_bst_(root: Node, min: int, max: int):\n",
    "    if root is None:\n",
    "        return True\n",
    "    if root.data < min or root.data > max:\n",
    "        return False\n",
    "    return check_bst_(root.left, min, root.data - 1) and check_bst_(root.right, root.data + 1, max)\n",
    "\n",
    "def check_bst(root: Node):\n",
    "    return check_bst_(root, float(\"-inf\"), float(\"inf\"))\n",
    "\n",
    "\n",
    "def insert_into_bst(root: Node, val):\n",
    "    if root is None:\n",
    "        return Node(val)\n",
    "    if val < root.data:\n",
    "        root.left = insert_into_bst(root.left, val)\n",
    "    else:\n",
    "        root.right = insert_into_bst(root.right, val)\n",
    "    return root\n",
    "\n",
    "\n",
    "def construct_bst(nodes: list):\n",
    "    root = None\n",
    "    for val in nodes:\n",
    "        root = insert_into_bst(root, val)\n",
    "    return root\n",
    "\n",
    "def print_in_order(node: Node):\n",
    "    if node:\n",
    "        print_in_order(node.left)\n",
    "        print(node.data, end=\" \")\n",
    "        print_in_order(node.right)\n",
    "\n",
    "def contains(root: Node, val):\n",
    "    if root is None:\n",
    "        return False\n",
    "    if root.data == val:\n",
    "        return True\n",
    "    return contains(root.left, val) or contains(root.right, val)"
   ]
  },
  {
   "cell_type": "code",
   "execution_count": 25,
   "metadata": {},
   "outputs": [
    {
     "data": {
      "text/plain": [
       "True"
      ]
     },
     "execution_count": 25,
     "metadata": {},
     "output_type": "execute_result"
    }
   ],
   "source": [
    "r = Node(4)\n",
    "r.left = Node(2)\n",
    "r.right = Node(5)\n",
    "r.left.left = Node(1)\n",
    "r.left.right = Node(3)\n",
    "\n",
    "# print(\"Inorder traversal of binary tree is\")\n",
    "# inorder_traversal(r)\n",
    "check_bst(r)"
   ]
  },
  {
   "cell_type": "code",
   "execution_count": 40,
   "metadata": {},
   "outputs": [
    {
     "name": "stdout",
     "output_type": "stream",
     "text": [
      "0 1 2 3 4 5 6 8 "
     ]
    },
    {
     "data": {
      "text/plain": [
       "True"
      ]
     },
     "execution_count": 40,
     "metadata": {},
     "output_type": "execute_result"
    }
   ],
   "source": [
    "nodes = [5,4,1,3,2,6,8]\n",
    "\n",
    "root = construct_bst(nodes)\n",
    "\n",
    "insert_into_bst(root, 0)\n",
    "\n",
    "print_in_order(root)\n",
    "\n",
    "check_bst(root)\n",
    "# contains(root, 9)"
   ]
  },
  {
   "cell_type": "code",
   "execution_count": null,
   "metadata": {},
   "outputs": [],
   "source": []
  }
 ],
 "metadata": {
  "kernelspec": {
   "display_name": "Python 3",
   "language": "python",
   "name": "python3"
  },
  "language_info": {
   "codemirror_mode": {
    "name": "ipython",
    "version": 3
   },
   "file_extension": ".py",
   "mimetype": "text/x-python",
   "name": "python",
   "nbconvert_exporter": "python",
   "pygments_lexer": "ipython3",
   "version": "3.9.6"
  }
 },
 "nbformat": 4,
 "nbformat_minor": 2
}
