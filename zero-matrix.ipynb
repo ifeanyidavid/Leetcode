{
 "cells": [
  {
   "cell_type": "code",
   "execution_count": 34,
   "metadata": {},
   "outputs": [],
   "source": [
    "def nullify_rows(matrix: list[list[int]], row: int) -> None:\n",
    "    for i in range(len(matrix[0])):\n",
    "        matrix[row][i] = 0\n",
    "\n",
    "def nullify_columns(matrix: list[list[int]], column: int) -> None:\n",
    "    for j in range(len(matrix)):\n",
    "        matrix[j][column] = 0"
   ]
  },
  {
   "cell_type": "code",
   "execution_count": 35,
   "metadata": {},
   "outputs": [],
   "source": [
    "def set_zeros(matrix: list[list[int]]) -> None:\n",
    "    rows = [False] * len(matrix)\n",
    "    columns = [False] * len(matrix[0])\n",
    "    \n",
    "    for i in range(len(matrix)):\n",
    "        for j in range(len(matrix[0])):\n",
    "            if matrix[i][j] == 0:\n",
    "                rows[i] = True\n",
    "                columns[j] = True\n",
    "    \n",
    "    # Nullify rows\n",
    "    for i in range(len(rows)):\n",
    "        if rows[i]:\n",
    "            nullify_rows(matrix, i)\n",
    "\n",
    "    # Nullify columns\n",
    "    for j in range(len(columns)):\n",
    "        if columns[j]:\n",
    "            nullify_columns(matrix, j)"
   ]
  },
  {
   "cell_type": "code",
   "execution_count": 36,
   "metadata": {},
   "outputs": [],
   "source": [
    "def set_zeros_in_place(matrix: list[list[int]]) -> None:\n",
    "    rowHasZero = False\n",
    "    columnHasZero = False\n",
    "\n",
    "    # Check if first column has zero\n",
    "    for i in range(len(matrix)):\n",
    "        if matrix[i][0] == 0:\n",
    "            columnHasZero = True\n",
    "            break\n",
    "    \n",
    "    # Check if first row has zero\n",
    "    for j in range(len(matrix[0])):\n",
    "        if matrix[0][j] == 0:\n",
    "            rowHasZero = True\n",
    "            break\n",
    "    \n",
    "    # Check for zeros in the rest of the matrix\n",
    "    for i in range(1, len(matrix)):\n",
    "        for j in range(1, len(matrix[0])):\n",
    "            if matrix[i][j] == 0:\n",
    "                matrix[i][0] = 0\n",
    "                matrix[0][j] = 0\n",
    "    \n",
    "    for i in range(1, len(matrix)):\n",
    "        if matrix[i][0] == 0:\n",
    "            nullify_rows(matrix, i)\n",
    "    \n",
    "    for j in range(1, len(matrix[0])):\n",
    "        if matrix[0][j] == 0:\n",
    "            nullify_columns(matrix, j)\n",
    "    \n",
    "    if rowHasZero:\n",
    "        nullify_rows(matrix, 0)\n",
    "    \n",
    "    if columnHasZero:\n",
    "        nullify_columns(matrix, 0)"
   ]
  },
  {
   "cell_type": "code",
   "execution_count": 38,
   "metadata": {},
   "outputs": [
    {
     "name": "stderr",
     "output_type": "stream",
     "text": [
      "test_zero_matrix (__main__.TestCase) ... ok\n",
      "\n",
      "----------------------------------------------------------------------\n",
      "Ran 1 test in 0.001s\n",
      "\n",
      "OK\n"
     ]
    },
    {
     "data": {
      "text/plain": [
       "<unittest.main.TestProgram at 0x114f16fd0>"
      ]
     },
     "execution_count": 38,
     "metadata": {},
     "output_type": "execute_result"
    }
   ],
   "source": [
    "import unittest\n",
    "\n",
    "class TestCase(unittest.TestCase):\n",
    "    test_data = [\n",
    "            ([[1,2,3,4], [5,6,0,7], [0,9,10,11]], [[0,2,0,4], [0,0,0,0], [0,0,0,0]]),\n",
    "            ([[3,9,0], [0,3,4]], [[0,0,0], [0,0,0]]),\n",
    "            ([[1,2,3], [4,5,6], [7,8,9]], [[1,2,3], [4,5,6], [7,8,9]])\n",
    "    ]\n",
    "\n",
    "    def test_zero_matrix(self):\n",
    "        for [matrix, result] in self.test_data:\n",
    "            set_zeros_in_place(matrix)\n",
    "            self.assertEqual(matrix, result)\n",
    "\n",
    "\n",
    "unittest.main(argv=[''], verbosity=2, exit=False)"
   ]
  }
 ],
 "metadata": {
  "kernelspec": {
   "display_name": "Python 3",
   "language": "python",
   "name": "python3"
  },
  "language_info": {
   "codemirror_mode": {
    "name": "ipython",
    "version": 3
   },
   "file_extension": ".py",
   "mimetype": "text/x-python",
   "name": "python",
   "nbconvert_exporter": "python",
   "pygments_lexer": "ipython3",
   "version": "3.9.6"
  }
 },
 "nbformat": 4,
 "nbformat_minor": 2
}
